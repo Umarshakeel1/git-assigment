{
 "cells": [
  {
   "cell_type": "code",
   "execution_count": 21,
   "metadata": {},
   "outputs": [
    {
     "name": "stdout",
     "output_type": "stream",
     "text": [
      "['lahore', 'kasur', 'okara', 'islamabad']\n",
      "['islamabad', 'kasur', 'lahore', 'okara']\n",
      "list after first reverse: ['islamabad', 'okara', 'kasur', 'lahore']\n",
      "list after second reverse: ['lahore', 'kasur', 'okara', 'islamabad']\n",
      "list sort fist: ['islamabad', 'kasur', 'lahore', 'okara']\n",
      "the list of pop: ['islamabad', 'kasur', 'lahore']\n"
     ]
    },
    {
     "ename": "AttributeError",
     "evalue": "'list' object has no attribute 'apened'",
     "output_type": "error",
     "traceback": [
      "\u001b[1;31m---------------------------------------------------------------------------\u001b[0m",
      "\u001b[1;31mAttributeError\u001b[0m                            Traceback (most recent call last)",
      "Cell \u001b[1;32mIn[21], line 17\u001b[0m\n\u001b[0;32m     15\u001b[0m \u001b[38;5;28mprint\u001b[39m(\u001b[38;5;124m\"\u001b[39m\u001b[38;5;124mthe list of pop:\u001b[39m\u001b[38;5;124m\"\u001b[39m,city_list)\n\u001b[0;32m     16\u001b[0m \u001b[38;5;66;03m#apened the list\u001b[39;00m\n\u001b[1;32m---> 17\u001b[0m \u001b[43mcity_list\u001b[49m\u001b[38;5;241;43m.\u001b[39;49m\u001b[43mapened\u001b[49m(\u001b[38;5;124m'\u001b[39m\u001b[38;5;124mkot radah kishen\u001b[39m\u001b[38;5;124m'\u001b[39m)\n\u001b[0;32m     18\u001b[0m \u001b[38;5;28mprint\u001b[39m(city_list)\n",
      "\u001b[1;31mAttributeError\u001b[0m: 'list' object has no attribute 'apened'"
     ]
    }
   ],
   "source": [
    "city_list= [\"lahore\",\"kasur\",\"okara\",\"islamabad\"]\n",
    "print(list(city))\n",
    "print(sorted(city))\n",
    "#reverse the list\n",
    "city_list.reverse()\n",
    "print(\"list after first reverse:\",city_list)\n",
    "#reverse the again list\n",
    "city_list.reverse()\n",
    "print(\"list after second reverse:\",city_list)\n",
    "# sort the list\n",
    "city_list.sort()\n",
    "print(\"list sort fist:\",city_list)\n",
    "#pop the list\n",
    "city_list.pop()\n",
    "print(\"the list of pop:\",city_list)\n",
    "#apened the list\n",
    "city_list.apened('kot radah kishen')\n",
    "print(city_list)\n"
   ]
  }
 ],
 "metadata": {
  "kernelspec": {
   "display_name": "Python 3",
   "language": "python",
   "name": "python3"
  },
  "language_info": {
   "codemirror_mode": {
    "name": "ipython",
    "version": 3
   },
   "file_extension": ".py",
   "mimetype": "text/x-python",
   "name": "python",
   "nbconvert_exporter": "python",
   "pygments_lexer": "ipython3",
   "version": "3.13.0"
  }
 },
 "nbformat": 4,
 "nbformat_minor": 2
}
