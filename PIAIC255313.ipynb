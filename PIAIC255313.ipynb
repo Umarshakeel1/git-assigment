{
  "nbformat": 4,
  "nbformat_minor": 0,
  "metadata": {
    "colab": {
      "provenance": [],
      "authorship_tag": "ABX9TyOUANNfdYPA8jdpNcpMeql/",
      "include_colab_link": true
    },
    "kernelspec": {
      "name": "python3",
      "display_name": "Python 3"
    },
    "language_info": {
      "name": "python"
    }
  },
  "cells": [
    {
      "cell_type": "markdown",
      "metadata": {
        "id": "view-in-github",
        "colab_type": "text"
      },
      "source": [
        "<a href=\"https://colab.research.google.com/github/Umarshakeel1/git-assigment/blob/main/PIAIC255313.ipynb\" target=\"_parent\"><img src=\"https://colab.research.google.com/assets/colab-badge.svg\" alt=\"Open In Colab\"/></a>"
      ]
    },
    {
      "cell_type": "code",
      "source": [
        "# Question no one booking ticketing\n",
        "age = int(input(\"Enter your age: \"))\n",
        "if age < 5:\n",
        "    price = 0\n",
        "    print(\"Your ticket is free!\")\n",
        "elif 5 <= age <= 17:\n",
        "    price = 10\n",
        "    print(f\"Your ticket price is ${price}.\")\n",
        "elif 18 <= age <= 60:\n",
        "    price = 20\n",
        "    print(f\"Your ticket price is ${price}.\")\n",
        "else:  # age > 60\n",
        "    price = 15\n",
        "    print(f\"Your ticket price is ${price}.\")"
      ],
      "metadata": {
        "colab": {
          "base_uri": "https://localhost:8080/"
        },
        "id": "BRJTBg4nh_JQ",
        "outputId": "183aed0e-5b3a-4b95-beb6-0a89111dc6ce"
      },
      "execution_count": null,
      "outputs": [
        {
          "output_type": "stream",
          "name": "stdout",
          "text": [
            "Enter your age: 47\n",
            "Your ticket price is $20.\n"
          ]
        }
      ]
    },
    {
      "cell_type": "code",
      "source": [
        "# question no two meals recommendation\n",
        "time = int(input('what it is time(enter 24 hour format):'))\n",
        "if  5<= time <=11:\n",
        "  print('your breakfast time')\n",
        "elif 12<= time <=16:\n",
        "  print('your lunch time!')\n",
        "elif 17<= time <=21:\n",
        "  print('your diner time!')\n",
        "elif (22 <= time <= 24) or (0 <= time <= 4):\n",
        "  print('it sanck time!')\n",
        "else:\n",
        "  print('Invalid input. Please enter a time between 0 and 24.')\n",
        "\n"
      ],
      "metadata": {
        "colab": {
          "base_uri": "https://localhost:8080/"
        },
        "id": "8yYV3tZ2Mswo",
        "outputId": "269ee45c-93ae-4512-93ce-15a4fbdb5432"
      },
      "execution_count": null,
      "outputs": [
        {
          "output_type": "stream",
          "name": "stdout",
          "text": [
            "what it is time(enter 24 hour format):14\n",
            "your lunch time!\n"
          ]
        }
      ]
    },
    {
      "cell_type": "code",
      "source": [
        "# bill calculate\n",
        "item1 = float(input('enter ist item price:'))\n",
        "item2 = float(input('enter second item price:'))\n",
        "item3 = float(input('enter third item price:'))\n",
        "item4 = float(input('enter fourth item price:'))\n",
        "item5 = float(input('enter five item price:'))\n",
        "item6 = float(input('enter six item price:'))\n",
        "item7 = float(input('enter seven  item price:'))\n",
        "# calculate the total bill\n",
        "total_bill = item1 + item2 + item3 + item4 + item5 + item6 + item7\n",
        "print(f'total bill: ${total_bill}:')\n",
        "if total_bill<=100:\n",
        "  discount = total_bill * 0.15\n",
        "  discount_total = total_bill and total-discount\n",
        "  print(f'discount total: ${discount_total}:')\n",
        "else:\n",
        "  print('no discount in total bill 100$ less')\n",
        "\n"
      ],
      "metadata": {
        "colab": {
          "base_uri": "https://localhost:8080/"
        },
        "id": "b2jHxoarcOkf",
        "outputId": "c4a1f50f-09db-4e8d-d115-73247257a6fa"
      },
      "execution_count": null,
      "outputs": [
        {
          "output_type": "stream",
          "name": "stdout",
          "text": [
            "enter ist item price:46\n",
            "enter second item price:67\n",
            "enter third item price:78\n",
            "enter fourth item price:65\n",
            "enter five item price:34\n",
            "enter six item price:87\n",
            "enter seven  item price:56\n",
            "total bill: $433.0:\n",
            "no discount in total bill 100$ less\n"
          ]
        }
      ]
    },
    {
      "cell_type": "code",
      "source": [
        "# user name validator\n",
        "name = str(input('Enter user name:'))\n",
        "if name == 'umar12345':\n",
        "  print('user name valid')\n",
        "else:\n",
        "  print('user name not valid')"
      ],
      "metadata": {
        "id": "7xG7lIbYojzc",
        "colab": {
          "base_uri": "https://localhost:8080/"
        },
        "outputId": "5bdc4922-a6ad-4f14-fc6f-c8888f230d66"
      },
      "execution_count": null,
      "outputs": [
        {
          "output_type": "stream",
          "name": "stdout",
          "text": [
            "Enter user name:shakeel\n",
            "user name not valid\n"
          ]
        }
      ]
    },
    {
      "cell_type": "code",
      "source": [
        "# user name validator #4\n",
        "name = str(input('Enter user name:'))\n",
        "if name == 'umar12345':\n",
        "  print('user name valid')\n",
        "else:\n",
        "  print('user name not valid')"
      ],
      "metadata": {
        "colab": {
          "base_uri": "https://localhost:8080/"
        },
        "id": "i0PUZhxNqs76",
        "outputId": "dfa0f326-4263-4a3d-9020-85cac977ea23"
      },
      "execution_count": null,
      "outputs": [
        {
          "output_type": "stream",
          "name": "stdout",
          "text": [
            "Enter user name:umar12345\n",
            "user name valid\n"
          ]
        }
      ]
    },
    {
      "cell_type": "code",
      "source": [
        "# ast the user weather # 5\n",
        "weather = str(input('Enter weather discuation:'))\n",
        "if weather == 'sunny':\n",
        "  print('go to beach')\n",
        "elif weather == 'Rainy':\n",
        "  print('visit go to Muree')\n",
        "elif weather == 'sonwy':\n",
        "  print('time for a ski trip')\n",
        "else:\n",
        "  print('weather are not valid')\n"
      ],
      "metadata": {
        "colab": {
          "base_uri": "https://localhost:8080/"
        },
        "id": "iKsC8UclrP1n",
        "outputId": "92d5391f-4797-4cd6-941a-4001ae80fb81"
      },
      "execution_count": null,
      "outputs": [
        {
          "output_type": "stream",
          "name": "stdout",
          "text": [
            "Enter weather discuation:sunny\n",
            "go to beach\n"
          ]
        }
      ]
    },
    {
      "cell_type": "code",
      "source": [
        "# discount eligiliblty\n",
        "total_bill = float(input('enter your spend money: $'))\n",
        "member = input('are you eligible in loyalty program: (yes/no):')\n",
        "if total_bill > 200 or member == 'yes':\n",
        "  print('you are eligible for 15% discount')\n",
        "else:\n",
        "  print('you are no eligible in loyalty program.')\n",
        "\n"
      ],
      "metadata": {
        "colab": {
          "base_uri": "https://localhost:8080/"
        },
        "id": "_QCmi-KbuThv",
        "outputId": "6d835586-3a0b-49ea-f25f-5fdf50229e8e"
      },
      "execution_count": null,
      "outputs": [
        {
          "output_type": "stream",
          "name": "stdout",
          "text": [
            "enter your spend money: $300\n",
            "are you eligible in loyalty program: (yes/no):yes\n",
            "you are eligible for 15% discount\n"
          ]
        }
      ]
    },
    {
      "cell_type": "code",
      "source": [
        "# event planning guest\n",
        "Guest_list = str(input('enter your user name:'))\n",
        "if  Guest_list ==['abubakar','ali', 'hadi','usman ali',]:\n",
        "  print('you are invited in {Guest_list}')\n",
        "else:\n",
        "  print('sorry,{Guest_list} are not invited')"
      ],
      "metadata": {
        "colab": {
          "base_uri": "https://localhost:8080/"
        },
        "id": "15MEQqSE4KR3",
        "outputId": "5b460226-7874-4d0c-c74c-d34c61dda71b"
      },
      "execution_count": 7,
      "outputs": [
        {
          "output_type": "stream",
          "name": "stdout",
          "text": [
            "enter your user name:hadir\n",
            "sorry,{Guest_list} are not invited\n"
          ]
        }
      ]
    },
    {
      "cell_type": "code",
      "source": [
        "# Ask for user input\n",
        "age = int(input(\"Enter your age: \"))\n",
        "movie_type = input(\"Enter the type of movie you want to watch (Action, punjabi, romantic): \").strip().lower()\n",
        "\n",
        "if movie_type == \"action\":\n",
        "    if age >= 18:\n",
        "        print(\"You are eligible to watch Action Movies.\")\n",
        "    else:\n",
        "        print(\"You are not eligible to watch Action Movies.\")\n",
        "elif movie_type == \"punjabi\":\n",
        "    print(\"You are eligible to watch punjabi Movies.\")\n",
        "elif movie_type == \"romantic\":\n",
        "    if age >= 12:\n",
        "        print(\"You are eligible to watch romantic.\")\n",
        "    else:\n",
        "        print(\"You are not eligible to watch romantic.\")\n",
        "else:\n",
        "    print(\"Invalid movie type entered.\")\n"
      ],
      "metadata": {
        "colab": {
          "base_uri": "https://localhost:8080/"
        },
        "id": "h_kBaxEEEi8U",
        "outputId": "4f9dc4cc-5ae6-428a-c58b-9dd708b4f34b"
      },
      "execution_count": 29,
      "outputs": [
        {
          "output_type": "stream",
          "name": "stdout",
          "text": [
            "Enter your age: 18\n",
            "Enter the type of movie you want to watch (Action, punjabi, romantic): punjabi\n",
            "You are eligible to watch punjabi Movies.\n"
          ]
        }
      ]
    },
    {
      "cell_type": "code",
      "source": [
        "#Get phone number input from the user\n",
        "phone_number = input(\"Enter a 10-digit phone number (e.g., 1234567890): \")\n",
        "\n",
        "# Check if the input is valid\n",
        "if len(phone_number) == 10 and phone_number.isdigit():\n",
        "    # Format the number\n",
        "    formatted_number = f\"({phone_number[:3]}) {phone_number[3:6]}-{phone_number[6:]}\"\n",
        "    print(\"Formatted Phone Number:\", formatted_number)\n",
        "else:\n",
        "    print(\"Invalid input. Please enter a 10-digit numeric phone number.\")\n"
      ],
      "metadata": {
        "colab": {
          "base_uri": "https://localhost:8080/"
        },
        "id": "eUGzzMOmTogu",
        "outputId": "53c5385f-a931-4865-8b40-2ffc64f0a2e8"
      },
      "execution_count": 47,
      "outputs": [
        {
          "output_type": "stream",
          "name": "stdout",
          "text": [
            "Enter a 10-digit phone number (e.g., 1234567890): 3029284149\n",
            "Formatted Phone Number: (302) 928-4149\n"
          ]
        }
      ]
    }
  ]
}